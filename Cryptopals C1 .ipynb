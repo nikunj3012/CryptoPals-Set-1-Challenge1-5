{
 "cells": [
  {
   "cell_type": "markdown",
   "metadata": {},
   "source": [
    "**Problem 1**"
   ]
  },
  {
   "cell_type": "code",
   "execution_count": 1,
   "metadata": {},
   "outputs": [
    {
     "name": "stdout",
     "output_type": "stream",
     "text": [
      "SSdtIGtpbGxpbmcgeW91ciBicmFpbiBsaWtlIGEgcG9pc29ub3VzIG11c2hyb29t\n"
     ]
    }
   ],
   "source": [
    "from enum import Enum\n",
    "\n",
    "b64_encoding_table = \"ABCDEFGHIJKLMNOPQRSTUVWXYZabcdefghijk\" \\\n",
    "                     \"lmnopqrstuvwxyz0123456789+/\"\n",
    "\n",
    "\n",
    "class Status(Enum):\n",
    "    #Represents the possible status of the converter upon finishing to read a hex character of 4 bits.\n",
    "   \n",
    "    START_NEW = 0\n",
    "    two= 1\n",
    "    four = 2\n",
    "\n",
    "\n",
    "def hex_to_base64(hexdata):\n",
    "    \"\"\"Returns a Base64 encoding of the given Hexadecimal string.\"\"\"\n",
    "    b64data = \"\"                # Encoding returned\n",
    "\n",
    "    sixbits = 0                 # Group of six bits that being encoded\n",
    "    status = Status.START_NEW   # Status of the conversion\n",
    "\n",
    "    for hexchar in hexdata:\n",
    "        dec = int(hexchar, 16)   # Decimal value of the character\n",
    "\n",
    "        \n",
    "        if status == Status.START_NEW:\n",
    "            sixbits = dec\n",
    "            status = Status.two\n",
    "\n",
    "     \n",
    "        elif status == Status.two:\n",
    "            sixbits = (sixbits << 2) | (dec >> 2)\n",
    "            b64data += b64_encoding_table[sixbits]\n",
    "            sixbits = (dec & 0x3)   # 0x3 is 0011\n",
    "            status = Status.four\n",
    "\n",
    "            \n",
    "            sixbits = (sixbits << 4) | dec\n",
    "            b64data += b64_encoding_table[sixbits]\n",
    "            status = Status.START_NEW\n",
    "\n",
    "    \n",
    "    if status == Status.two:\n",
    "        sixbits <<= 2\n",
    "        b64data += b64_encoding_table[sixbits]\n",
    "        b64data += \"=\"\n",
    "\n",
    "    \n",
    "    elif status == Status.four:\n",
    "        sixbits <<= 4\n",
    "        b64data += b64_encoding_table[sixbits]\n",
    "        b64data += \"==\"\n",
    "\n",
    "    return b64data\n",
    "\n",
    "\n",
    "def main():\n",
    "    assert hex_to_base64(\"49276d206b696c6c696e6720796f757220627261696e206c696b\"\n",
    "                         \"65206120706f69736f6e6f7573206d757368726f6f6d\") ==\\\n",
    "           \"SSdtIGtpbGxpbmcgeW91ciBicmFpbiBsaWtlIGEgcG9pc29ub3VzIG11c2hyb29t\"\n",
    "    \n",
    "if __name__ == '__main__':\n",
    "    main()\n",
    "    \n",
    "print(hex_to_base64(\"49276d206b696c6c696e6720796f757220627261696\"\n",
    "                    \"e206c696b65206120706f69736f6e6f7573206d757368726f6f6d\"))\n",
    " "
   ]
  },
  {
   "cell_type": "markdown",
   "metadata": {},
   "source": [
    "**Problem 2**"
   ]
  },
  {
   "cell_type": "code",
   "execution_count": 2,
   "metadata": {},
   "outputs": [
    {
     "name": "stdout",
     "output_type": "stream",
     "text": [
      "746865206b696420646f6e277420706c6179\n"
     ]
    }
   ],
   "source": [
    "def hex_xor(hexdata1, hexdata2):\n",
    "    \"\"\"Takes two equal-length hex encoded buffers and produces their XOR combination.\"\"\"\n",
    "    dec1 = int(hexdata1, 16)\n",
    "    dec2 = int(hexdata2, 16)\n",
    "    xor = dec1 ^ dec2\n",
    "    return hex(xor)[2:]\n",
    "\n",
    "\n",
    "def main():\n",
    "     assert hex_xor(\"1c0111001f010100061a024b53535009181c\", \"686974207468652062756c6c277320657965\") ==\\\n",
    "           \"746865206b696420646f6e277420706c6179\"\n",
    "\n",
    "if __name__ == '__main__':\n",
    "    main()\n",
    "print(hex_xor(\"1c0111001f010100061a024b53535009181c\", \"686974207468652062756c6c277320657965\"))\n"
   ]
  },
  {
   "cell_type": "markdown",
   "metadata": {},
   "source": [
    " **Problem 3**"
   ]
  },
  {
   "cell_type": "code",
   "execution_count": 76,
   "metadata": {},
   "outputs": [
    {
     "ename": "TypeError",
     "evalue": "an integer is required (got type list)",
     "output_type": "error",
     "traceback": [
      "\u001b[0;31m---------------------------------------------------------------------------\u001b[0m",
      "\u001b[0;31mTypeError\u001b[0m                                 Traceback (most recent call last)",
      "\u001b[0;32m<ipython-input-76-de1a5c2fd029>\u001b[0m in \u001b[0;36m<module>\u001b[0;34m()\u001b[0m\n\u001b[1;32m     86\u001b[0m \u001b[0;34m\u001b[0m\u001b[0m\n\u001b[1;32m     87\u001b[0m \u001b[0;32mif\u001b[0m \u001b[0m__name__\u001b[0m\u001b[0;34m==\u001b[0m\u001b[0;34m'__main__'\u001b[0m\u001b[0;34m:\u001b[0m\u001b[0;34m\u001b[0m\u001b[0m\n\u001b[0;32m---> 88\u001b[0;31m     \u001b[0mmain\u001b[0m\u001b[0;34m(\u001b[0m\u001b[0;34m)\u001b[0m\u001b[0;34m\u001b[0m\u001b[0m\n\u001b[0m\u001b[1;32m     89\u001b[0m \u001b[0;34m\u001b[0m\u001b[0m\n\u001b[1;32m     90\u001b[0m \u001b[0;31m#x = singlechar_xor_brute_force(\"1b37373331363f78151b7f2b783431333d78397828372d363c78373e783a393b3736\")\u001b[0m\u001b[0;34m\u001b[0m\u001b[0;34m\u001b[0m\u001b[0m\n",
      "\u001b[0;32m<ipython-input-76-de1a5c2fd029>\u001b[0m in \u001b[0;36mmain\u001b[0;34m()\u001b[0m\n\u001b[1;32m     82\u001b[0m     \u001b[0mciphertext\u001b[0m \u001b[0;34m=\u001b[0m \u001b[0mbytes\u001b[0m\u001b[0;34m.\u001b[0m\u001b[0mfromhex\u001b[0m\u001b[0;34m(\u001b[0m\u001b[0;34m\"1b37373331363f78151b7f2b783431333d78397828372d363c78373e783a393b3736\"\u001b[0m\u001b[0;34m)\u001b[0m\u001b[0;34m\u001b[0m\u001b[0m\n\u001b[1;32m     83\u001b[0m     \u001b[0mmost_likely_plaintext\u001b[0m \u001b[0;34m=\u001b[0m \u001b[0msinglechar_xor_brute_force\u001b[0m\u001b[0;34m(\u001b[0m\u001b[0mciphertext\u001b[0m\u001b[0;34m)\u001b[0m\u001b[0;34m\u001b[0m\u001b[0m\n\u001b[0;32m---> 84\u001b[0;31m     \u001b[0mpretty_print_result\u001b[0m\u001b[0;34m(\u001b[0m\u001b[0mmost_likely_plaintext\u001b[0m\u001b[0;34m)\u001b[0m\u001b[0;34m\u001b[0m\u001b[0m\n\u001b[0m\u001b[1;32m     85\u001b[0m \u001b[0;34m\u001b[0m\u001b[0m\n\u001b[1;32m     86\u001b[0m \u001b[0;34m\u001b[0m\u001b[0m\n",
      "\u001b[0;32m<ipython-input-76-de1a5c2fd029>\u001b[0m in \u001b[0;36mpretty_print_result\u001b[0;34m(result)\u001b[0m\n\u001b[1;32m     74\u001b[0m     \u001b[0;34m\"\"\"Prints the given resulting candidate in a pretty format.\"\"\"\u001b[0m\u001b[0;34m\u001b[0m\u001b[0m\n\u001b[1;32m     75\u001b[0m     print(result['plaintext'].decode().rstrip(), \"\\tScore:\", \"{0:.2f}\".format(result['score']),\n\u001b[0;32m---> 76\u001b[0;31m           \"\\tKey:\", chr(result['key']))\n\u001b[0m\u001b[1;32m     77\u001b[0m \u001b[0;34m\u001b[0m\u001b[0m\n\u001b[1;32m     78\u001b[0m \u001b[0;34m\u001b[0m\u001b[0m\n",
      "\u001b[0;31mTypeError\u001b[0m: an integer is required (got type list)"
     ]
    }
   ],
   "source": [
    "##Getting Error constantly\n",
    "CHARACTER_FREQ = {\n",
    "    'a': 0.0651738, 'b': 0.0124248, 'c': 0.0217339, 'd': 0.0349835, 'e': 0.1041442, 'f': 0.0197881, 'g': 0.0158610,\n",
    "    'h': 0.0492888, 'i': 0.0558094, 'j': 0.0009033, 'k': 0.0050529, 'l': 0.0331490, 'm': 0.0202124, 'n': 0.0564513,\n",
    "    'o': 0.0596302, 'p': 0.0137645, 'q': 0.0008606, 'r': 0.0497563, 's': 0.0515760, 't': 0.0729357, 'u': 0.0225134,\n",
    "    'v': 0.0082903, 'w': 0.0171272, 'x': 0.0013692, 'y': 0.0145984, 'z': 0.0007836, ' ': 0.1918182\n",
    "}\n",
    "\n",
    "\n",
    "def get_english_score(input_bytes):\n",
    "    \n",
    "    score = 0\n",
    "\n",
    "    for byte in input_bytes:\n",
    "        score += CHARACTER_FREQ.get(chr(byte).lower(), 0)\n",
    "\n",
    "    return score\n",
    "\n",
    "\n",
    "def singlechar_xor(input_bytes, key_value):\n",
    "    \"\"\"XORs every byte of the input with the given key_value and returns the result.\"\"\"\n",
    "    output = b''\n",
    "\n",
    "    for char in input_bytes:\n",
    "        \n",
    "        #return bytes(x ^ y for x, y in zip((input_bytes, key_value))\n",
    "        \n",
    "        if isinstance(char, str):\n",
    "            char= chr(char)\n",
    "        elif isinstance(char, int):\n",
    "            char= chr(char)\n",
    "        else:\n",
    "        #if isinstance(input_bytes, str):\n",
    "            # Text strings contain single characters\n",
    "        \n",
    "            output += chr((ord(a)^ord(b)) for a, b in zip(input_bytes, key_value))\n",
    "            #output += chr((ord(char)^ord(key_value)))\n",
    "            #return \"\".join(chr(ord(a) ^ ord(b)) for a, b in zip(s, t))\n",
    "        \n",
    "        #else :\n",
    "            output += bytes([ord(char) ^ key_value])\n",
    "                \n",
    "      \n",
    "\n",
    "         #output += bytes([char ^ key_value])\n",
    "               \n",
    "    return output\n",
    "\n",
    "\n",
    "def singlechar_xor_brute_force(ciphertext):\n",
    "    \"\"\"Tries every possible byte for the single-char key, decrypts the ciphertext with that byte\n",
    "    and computes the english score for each plaintext. The plaintext with the highest score\n",
    "    is likely to be the one decrypted with the correct value of key.\n",
    "    \"\"\"\n",
    "    candidates = []\n",
    "\n",
    "    for k in range(256):\n",
    "        key_candidate= [k]*len(ciphertext)\n",
    "        plaintext_candidate = singlechar_xor(ciphertext, key_candidate)\n",
    "        candidate_score = get_english_score(plaintext_candidate)\n",
    "\n",
    "        result = {\n",
    "            'key': key_candidate,\n",
    "            'score': candidate_score,\n",
    "            'plaintext': plaintext_candidate\n",
    "        }\n",
    "\n",
    "        candidates.append(result)\n",
    "\n",
    "    # Return the candidate with the highest English score\n",
    "    return sorted(candidates, key=lambda c: c['score'], reverse=True)[0]\n",
    "\n",
    "\n",
    "def pretty_print_result(result):\n",
    "    \"\"\"Prints the given resulting candidate in a pretty format.\"\"\"\n",
    "    print(result['plaintext'].decode().rstrip(), \"\\tScore:\", \"{0:.2f}\".format(result['score']),\n",
    "          \"\\tKey:\", chr(result['key']))\n",
    "\n",
    "\n",
    "\n",
    "def main():\n",
    "   \n",
    "    ciphertext = bytes.fromhex(\"1b37373331363f78151b7f2b783431333d78397828372d363c78373e783a393b3736\")\n",
    "    most_likely_plaintext = singlechar_xor_brute_force(ciphertext)\n",
    "    pretty_print_result(most_likely_plaintext)\n",
    "\n",
    "    \n",
    "if __name__=='__main__':\n",
    "    main()\n",
    "\n",
    "#x = singlechar_xor_brute_force(\"1b37373331363f78151b7f2b783431333d78397828372d363c78373e783a393b3736\")\n",
    "ciphertext = bytearray.fromhex(\"1b37373331363f78151b7f2b783431333d78397828372d363c78373e783a393b3736\")\n",
    "most_likely_plaintext = singlechar_xor_brute_force(ciphertext)\n",
    "print(pretty_print_result(most_likely_plaintext))\n",
    "\n",
    "#print(most_likely_plaintext['plaintext'].rstrip())"
   ]
  },
  {
   "cell_type": "markdown",
   "metadata": {},
   "source": [
    "**Problem 4**\n"
   ]
  },
  {
   "cell_type": "code",
   "execution_count": 21,
   "metadata": {},
   "outputs": [
    {
     "name": "stdout",
     "output_type": "stream",
     "text": [
      "Now that the party is jumping \tScore: 2.09 \tKey: 5\n"
     ]
    }
   ],
   "source": [
    "def detect_encrypted_text(encrypted_strings):\n",
    "    \"\"\"Performs a singlechar XOR brute force attack to every ciphertext of the input, gets a plaintext\n",
    "    from each of the ciphertexts and returns the decrypted plaintext which has the highest English score.\n",
    "    \"\"\"\n",
    "    candidates = []\n",
    "\n",
    "    for string in encrypted_strings:\n",
    "        candidates.append(singlechar_xor_brute_force(string))\n",
    "\n",
    "    # Return the candidate with the highest English score\n",
    "    return sorted(candidates, key=lambda c: c['score'], reverse=True)[0]\n",
    "\n",
    "\n",
    "def main():\n",
    "    ciphertexts = [bytes.fromhex(line.strip()) for line in open(\"4.txt\")]\n",
    "    most_likely_plaintext = detect_encrypted_text(ciphertexts)\n",
    "    pretty_print_result(most_likely_plaintext)\n",
    "\n",
    "    # Check that the attack works properly\n",
    "    assert most_likely_plaintext['plaintext'].rstrip() == b\"Now that the party is jumping\"\n",
    "\n",
    "if __name__ == \"__main__\":\n",
    "    main()"
   ]
  },
  {
   "cell_type": "markdown",
   "metadata": {},
   "source": [
    "**Problem 5**"
   ]
  },
  {
   "cell_type": "code",
   "execution_count": 79,
   "metadata": {},
   "outputs": [
    {
     "name": "stdout",
     "output_type": "stream",
     "text": [
      "0b3637272a2b2e63622c2e69692a23693a2a3c6324202d623d63343c2a26226324272765272a282b2f20430a652e2c652a3124333a653e2b2027630c692b20283165286326302e27282f\n"
     ]
    }
   ],
   "source": [
    "from binascii import hexlify\n",
    "\n",
    "\n",
    "def repeating_key_xor(plaintext, key):\n",
    "    \"\"\"Implements the repeating-key XOR encryption.\"\"\"\n",
    "    ciphertext = b''\n",
    "    i = 0\n",
    "\n",
    "    for byte in plaintext:\n",
    "        ciphertext += bytes([byte ^ key[i]])\n",
    "\n",
    "        # Cycle i to point to the next byte of the key\n",
    "        i = i + 1 if i < len(key) - 1 else 0\n",
    "\n",
    "    return ciphertext\n",
    "\n",
    "\n",
    "def main():\n",
    "    c = repeating_key_xor(b\"Burning 'em, if you ain't quick and nimble\\nI go crazy when I hear a cymbal\", b'ICE')\n",
    "\n",
    "\n",
    "\n",
    "if __name__ == \"__main__\":\n",
    "    main()\n",
    "\n",
    "print(str(hexlify(c), \"utf-8\"))"
   ]
  },
  {
   "cell_type": "code",
   "execution_count": null,
   "metadata": {
    "collapsed": true
   },
   "outputs": [],
   "source": []
  }
 ],
 "metadata": {
  "kernelspec": {
   "display_name": "Python 3",
   "language": "python",
   "name": "python3"
  },
  "language_info": {
   "codemirror_mode": {
    "name": "ipython",
    "version": 3
   },
   "file_extension": ".py",
   "mimetype": "text/x-python",
   "name": "python",
   "nbconvert_exporter": "python",
   "pygments_lexer": "ipython3",
   "version": "3.6.3"
  }
 },
 "nbformat": 4,
 "nbformat_minor": 2
}
